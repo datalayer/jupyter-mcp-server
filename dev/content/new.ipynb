{
 "cells": [
  {
   "cell_type": "markdown",
   "id": "a70f6bd9",
   "metadata": {},
   "source": [
    "# A New Notebook"
   ]
  },
  {
   "cell_type": "code",
   "execution_count": 1,
   "id": "3c3442e4",
   "metadata": {},
   "outputs": [
    {
     "name": "stdout",
     "output_type": "stream",
     "text": [
      "Hello, World!\n"
     ]
    }
   ],
   "source": [
    "print(\"Hello, World!\")"
   ]
  },
  {
   "cell_type": "code",
   "execution_count": null,
   "id": "68d7d9e9",
   "metadata": {},
   "outputs": [],
   "source": []
  },
  {
   "cell_type": "code",
   "execution_count": null,
   "id": "a04b5f71",
   "metadata": {},
   "outputs": [],
   "source": [
    "# Multi-notebook test\n",
    "print('Testing multi-notebook')"
   ]
  },
  {
   "cell_type": "code",
   "execution_count": 1,
   "id": "15782a86",
   "metadata": {},
   "outputs": [
    {
     "data": {
      "text/plain": [
       "5"
      ]
     },
     "execution_count": 1,
     "metadata": {},
     "output_type": "execute_result"
    }
   ],
   "source": [
    "2 + 3"
   ]
  },
  {
   "cell_type": "markdown",
   "id": "aa7dfb53",
   "metadata": {},
   "source": [
    "# This is notebook A"
   ]
  },
  {
   "cell_type": "code",
   "execution_count": null,
   "id": "b6b6c3e8",
   "metadata": {},
   "outputs": [],
   "source": [
    "# Multi-notebook test\n",
    "print('Testing multi-notebook')"
   ]
  },
  {
   "cell_type": "code",
   "execution_count": 1,
   "id": "44210060",
   "metadata": {},
   "outputs": [
    {
     "data": {
      "text/plain": [
       "5"
      ]
     },
     "execution_count": 1,
     "metadata": {},
     "output_type": "execute_result"
    }
   ],
   "source": [
    "2 + 3"
   ]
  },
  {
   "cell_type": "markdown",
   "id": "004f61e7",
   "metadata": {},
   "source": [
    "# This is notebook A"
   ]
  },
  {
   "cell_type": "code",
   "execution_count": null,
   "id": "4d305115",
   "metadata": {},
   "outputs": [],
   "source": [
    "# Multi-notebook test\n",
    "print('Testing multi-notebook')"
   ]
  },
  {
   "cell_type": "code",
   "execution_count": 1,
   "id": "00503c4d",
   "metadata": {},
   "outputs": [
    {
     "data": {
      "text/plain": [
       "5"
      ]
     },
     "execution_count": 1,
     "metadata": {},
     "output_type": "execute_result"
    }
   ],
   "source": [
    "2 + 3"
   ]
  },
  {
   "cell_type": "markdown",
   "id": "fa33efdd",
   "metadata": {},
   "source": [
    "# This is notebook A"
   ]
  },
  {
   "cell_type": "code",
   "execution_count": null,
   "id": "5e4e1e46",
   "metadata": {},
   "outputs": [],
   "source": [
    "# Multi-notebook test\n",
    "print('Testing multi-notebook')"
   ]
  },
  {
   "cell_type": "code",
   "execution_count": 1,
   "id": "eb4e2aa6",
   "metadata": {},
   "outputs": [
    {
     "data": {
      "text/plain": [
       "5"
      ]
     },
     "execution_count": 1,
     "metadata": {},
     "output_type": "execute_result"
    }
   ],
   "source": [
    "2 + 3"
   ]
  },
  {
   "cell_type": "markdown",
   "id": "bf24c4a8",
   "metadata": {},
   "source": [
    "# This is notebook A"
   ]
  }
 ],
 "metadata": {
  "kernelspec": {
   "display_name": "base",
   "language": "python",
   "name": "python3"
  },
  "language_info": {
   "codemirror_mode": {
    "name": "ipython",
    "version": 3
   },
   "file_extension": ".py",
   "mimetype": "text/x-python",
   "name": "python",
   "nbconvert_exporter": "python",
   "pygments_lexer": "ipython3",
   "version": "3.13.5"
  }
 },
 "nbformat": 4,
 "nbformat_minor": 5
}
