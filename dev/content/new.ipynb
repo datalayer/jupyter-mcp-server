{
 "cells": [
  {
   "cell_type": "markdown",
   "id": "a70f6bd9",
   "metadata": {},
   "source": [
    "# A New Notebook"
   ]
  },
  {
   "cell_type": "code",
   "execution_count": 1,
   "id": "3c3442e4",
   "metadata": {},
   "outputs": [
    {
     "name": "stdout",
     "output_type": "stream",
     "text": [
      "Hello, World!\n"
     ]
    }
   ],
   "source": [
    "print(\"Hello, World!\")"
   ]
  },
  {
   "cell_type": "code",
   "execution_count": 9,
   "id": "b36a4344-f4a2-4335-8c33-3f8c09560429",
   "metadata": {
    "execution": {
     "iopub.execute_input": "2025-10-08T06:40:18.841835Z",
     "iopub.status.busy": "2025-10-08T06:40:18.841535Z",
     "iopub.status.idle": "2025-10-08T06:40:18.845248Z",
     "shell.execute_reply": "2025-10-08T06:40:18.844981Z",
     "shell.execute_reply.started": "2025-10-08T06:40:18.841822Z"
    }
   },
   "outputs": [
    {
     "data": {
      "text/plain": [
       "1"
      ]
     },
     "execution_count": 9,
     "metadata": {},
     "output_type": "execute_result"
    }
   ],
   "source": [
    "x"
   ]
  },
  {
   "cell_type": "code",
   "execution_count": null,
   "id": "3466d046-f5e8-4623-a5a3-82b6d71be3ee",
   "metadata": {},
   "outputs": [],
   "source": []
  },
  {
   "cell_type": "code",
   "execution_count": null,
   "id": "45abd435",
   "metadata": {},
   "outputs": [],
   "source": [
    "from ipylab import JupyterFrontEnd\n",
    "app = JupyterFrontEnd()\n",
    "app.commands.list_commands()\n",
    "\n",
    "app.commands.execute('console:create', {\n",
    "    'insertMode': 'split-right',\n",
    "    'kernelPreference': {\n",
    "        'shutdownOnClose': True,\n",
    "    }\n",
    "})"
   ]
  },
  {
   "cell_type": "code",
   "execution_count": 10,
   "id": "003262d7",
   "metadata": {
    "execution": {
     "iopub.execute_input": "2025-10-08T06:41:48.615921Z",
     "iopub.status.busy": "2025-10-08T06:41:48.615642Z",
     "iopub.status.idle": "2025-10-08T06:41:48.620170Z",
     "shell.execute_reply": "2025-10-08T06:41:48.619922Z",
     "shell.execute_reply.started": "2025-10-08T06:41:48.615906Z"
    }
   },
   "outputs": [],
   "source": [
    "from ipylab import JupyterFrontEnd\n",
    "app = JupyterFrontEnd()\n",
    "app.commands.list_commands()\n",
    "\n",
    "app.commands.execute('console:create', {\n",
    "    'insertMode': 'split-right',\n",
    "    'kernelPreference': {\n",
    "        'shutdownOnClose': True,\n",
    "    }\n",
    "})"
   ]
  },
  {
   "cell_type": "code",
   "execution_count": null,
   "id": "3fb6d122-a8ea-4e73-8a51-4f29dec3f15f",
   "metadata": {},
   "outputs": [],
   "source": []
  },
  {
   "cell_type": "code",
   "execution_count": null,
   "id": "6a1afb31",
   "metadata": {},
   "outputs": [],
   "source": [
    "# Multi-notebook test\n",
    "print('Testing multi-notebook')"
   ]
  },
  {
   "cell_type": "code",
   "execution_count": null,
   "id": "97b1d9e2",
   "metadata": {},
   "outputs": [],
   "source": [
    "2 + 3"
   ]
  },
  {
   "cell_type": "markdown",
   "id": "a59e12bd",
   "metadata": {},
   "source": [
    "# This is notebook A"
   ]
  }
 ],
 "metadata": {
  "kernelspec": {
   "display_name": "Python 3 (ipykernel)",
   "language": "python",
   "name": "python3"
  },
  "language_info": {
   "codemirror_mode": {
    "name": "ipython",
    "version": 3
   },
   "file_extension": ".py",
   "mimetype": "text/x-python",
   "name": "python",
   "nbconvert_exporter": "python",
   "pygments_lexer": "ipython3",
   "version": "3.11.12"
  }
 },
 "nbformat": 4,
 "nbformat_minor": 5
}
