{
 "cells": [
  {
   "cell_type": "markdown",
   "id": "a70f6bd9",
   "metadata": {},
   "source": [
    "# A New Notebook"
   ]
  },
  {
   "cell_type": "code",
   "execution_count": 1,
   "id": "3c3442e4",
   "metadata": {},
   "outputs": [
    {
     "name": "stdout",
     "output_type": "stream",
     "text": [
      "Hello, World!\n"
     ]
    }
   ],
   "source": [
    "print(\"Hello, World!\")"
   ]
  },
  {
   "cell_type": "code",
   "execution_count": null,
   "id": "68d7d9e9",
   "metadata": {},
   "outputs": [],
   "source": []
  },
  {
   "cell_type": "code",
   "execution_count": null,
   "id": "b7713f49",
   "metadata": {},
   "outputs": [],
   "source": [
    "# Multi-notebook test\n",
    "print('Testing multi-notebook')"
   ]
  },
  {
   "cell_type": "code",
   "execution_count": 1,
   "id": "cbfa390c",
   "metadata": {},
   "outputs": [
    {
     "data": {
      "text/plain": [
       "5"
      ]
     },
     "execution_count": 1,
     "metadata": {},
     "output_type": "execute_result"
    }
   ],
   "source": [
    "2 + 3"
   ]
  },
  {
   "cell_type": "markdown",
   "id": "858a0c26",
   "metadata": {},
   "source": [
    "# This is notebook A"
   ]
  },
  {
   "cell_type": "code",
   "execution_count": null,
   "id": "16930760",
   "metadata": {},
   "outputs": [],
   "source": [
    "# Multi-notebook test\n",
    "print('Testing multi-notebook')"
   ]
  },
  {
   "cell_type": "code",
   "execution_count": 1,
   "id": "98c89eb2",
   "metadata": {},
   "outputs": [
    {
     "data": {
      "text/plain": [
       "5"
      ]
     },
     "execution_count": 1,
     "metadata": {},
     "output_type": "execute_result"
    }
   ],
   "source": [
    "2 + 3"
   ]
  },
  {
   "cell_type": "markdown",
   "id": "1b40ec58",
   "metadata": {},
   "source": [
    "# This is notebook A"
   ]
  },
  {
   "cell_type": "code",
   "execution_count": null,
   "id": "8a9f81e8",
   "metadata": {},
   "outputs": [],
   "source": [
    "# Multi-notebook test\n",
    "print('Testing multi-notebook')"
   ]
  },
  {
   "cell_type": "code",
   "execution_count": 1,
   "id": "e4d0484d",
   "metadata": {},
   "outputs": [
    {
     "data": {
      "text/plain": [
       "5"
      ]
     },
     "execution_count": 1,
     "metadata": {},
     "output_type": "execute_result"
    }
   ],
   "source": [
    "2 + 3"
   ]
  },
  {
   "cell_type": "markdown",
   "id": "634af103",
   "metadata": {},
   "source": [
    "# This is notebook A"
   ]
  }
 ],
 "metadata": {
  "kernelspec": {
   "display_name": "base",
   "language": "python",
   "name": "python3"
  },
  "language_info": {
   "codemirror_mode": {
    "name": "ipython",
    "version": 3
   },
   "file_extension": ".py",
   "mimetype": "text/x-python",
   "name": "python",
   "nbconvert_exporter": "python",
   "pygments_lexer": "ipython3",
   "version": "3.13.5"
  }
 },
 "nbformat": 4,
 "nbformat_minor": 5
}
