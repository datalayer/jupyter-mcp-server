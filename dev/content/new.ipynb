{
 "cells": [
  {
   "cell_type": "markdown",
   "id": "a70f6bd9",
   "metadata": {},
   "source": [
    "# A New Notebook"
   ]
  },
  {
   "cell_type": "code",
   "execution_count": 1,
   "id": "3c3442e4",
   "metadata": {},
   "outputs": [
    {
     "name": "stdout",
     "output_type": "stream",
     "text": [
      "Hello, World!\n"
     ]
    }
   ],
   "source": [
    "print(\"Hello, World!\")"
   ]
  },
  {
   "cell_type": "code",
   "execution_count": null,
   "id": "68d7d9e9",
   "metadata": {},
   "outputs": [],
   "source": []
  },
  {
   "cell_type": "code",
   "execution_count": null,
   "id": "43bde037",
   "metadata": {},
   "outputs": [],
   "source": [
    "# Multi-notebook test\n",
    "print('Testing multi-notebook')"
   ]
  },
  {
   "cell_type": "code",
   "execution_count": 1,
   "id": "f25c6bcb",
   "metadata": {},
   "outputs": [
    {
     "data": {
      "text/plain": [
       "5"
      ]
     },
     "execution_count": 1,
     "metadata": {},
     "output_type": "execute_result"
    }
   ],
   "source": [
    "2 + 3"
   ]
  },
  {
   "cell_type": "markdown",
   "id": "f7fe63f4",
   "metadata": {},
   "source": [
    "# This is notebook A"
   ]
  },
  {
   "cell_type": "code",
   "execution_count": null,
   "id": "73df29d0",
   "metadata": {},
   "outputs": [],
   "source": [
    "# Multi-notebook test\n",
    "print('Testing multi-notebook')"
   ]
  },
  {
   "cell_type": "code",
   "execution_count": 1,
   "id": "954e42e5",
   "metadata": {},
   "outputs": [
    {
     "data": {
      "text/plain": [
       "5"
      ]
     },
     "execution_count": 1,
     "metadata": {},
     "output_type": "execute_result"
    }
   ],
   "source": [
    "2 + 3"
   ]
  },
  {
   "cell_type": "markdown",
   "id": "f82fa163",
   "metadata": {},
   "source": [
    "# This is notebook A"
   ]
  },
  {
   "cell_type": "code",
   "execution_count": null,
   "id": "d9a2eb94",
   "metadata": {},
   "outputs": [],
   "source": [
    "# Multi-notebook test\n",
    "print('Testing multi-notebook')"
   ]
  },
  {
   "cell_type": "code",
   "execution_count": 1,
   "id": "314d879e",
   "metadata": {},
   "outputs": [
    {
     "data": {
      "text/plain": [
       "5"
      ]
     },
     "execution_count": 1,
     "metadata": {},
     "output_type": "execute_result"
    }
   ],
   "source": [
    "2 + 3"
   ]
  },
  {
   "cell_type": "markdown",
   "id": "65d8251c",
   "metadata": {},
   "source": [
    "# This is notebook A"
   ]
  },
  {
   "cell_type": "code",
   "execution_count": null,
   "id": "2a9dd618",
   "metadata": {},
   "outputs": [],
   "source": [
    "# Multi-notebook test\n",
    "print('Testing multi-notebook')"
   ]
  },
  {
   "cell_type": "code",
   "execution_count": 1,
   "id": "845bcaaa",
   "metadata": {},
   "outputs": [
    {
     "data": {
      "text/plain": [
       "5"
      ]
     },
     "execution_count": 1,
     "metadata": {},
     "output_type": "execute_result"
    }
   ],
   "source": [
    "2 + 3"
   ]
  },
  {
   "cell_type": "markdown",
   "id": "bd380673",
   "metadata": {},
   "source": [
    "# This is notebook A"
   ]
  },
  {
   "cell_type": "code",
   "execution_count": null,
   "id": "b8c40a09",
   "metadata": {},
   "outputs": [],
   "source": [
    "# Multi-notebook test\n",
    "print('Testing multi-notebook')"
   ]
  },
  {
   "cell_type": "code",
   "execution_count": 1,
   "id": "14128384",
   "metadata": {},
   "outputs": [
    {
     "data": {
      "text/plain": [
       "5"
      ]
     },
     "execution_count": 1,
     "metadata": {},
     "output_type": "execute_result"
    }
   ],
   "source": [
    "2 + 3"
   ]
  },
  {
   "cell_type": "markdown",
   "id": "70529e71",
   "metadata": {},
   "source": [
    "# This is notebook A"
   ]
  },
  {
   "cell_type": "code",
   "execution_count": null,
   "id": "efdb2935",
   "metadata": {},
   "outputs": [],
   "source": [
    "# Multi-notebook test\n",
    "print('Testing multi-notebook')"
   ]
  },
  {
   "cell_type": "code",
   "execution_count": 1,
   "id": "2590eccd",
   "metadata": {},
   "outputs": [
    {
     "data": {
      "text/plain": [
       "5"
      ]
     },
     "execution_count": 1,
     "metadata": {},
     "output_type": "execute_result"
    }
   ],
   "source": [
    "2 + 3"
   ]
  },
  {
   "cell_type": "markdown",
   "id": "8990aa88",
   "metadata": {},
   "source": [
    "# This is notebook A"
   ]
  },
  {
   "cell_type": "markdown",
   "id": "ff1451a4",
   "metadata": {},
   "source": [
    "# This is notebook A"
   ]
  },
  {
   "cell_type": "code",
   "execution_count": null,
   "id": "20a5f80d",
   "metadata": {},
   "outputs": [],
   "source": [
    "# Multi-notebook test\n",
    "print('Testing multi-notebook')"
   ]
  },
  {
   "cell_type": "code",
   "execution_count": 1,
   "id": "61e06446",
   "metadata": {},
   "outputs": [
    {
     "data": {
      "text/plain": [
       "5"
      ]
     },
     "execution_count": 1,
     "metadata": {},
     "output_type": "execute_result"
    }
   ],
   "source": [
    "2 + 3"
   ]
  },
  {
   "cell_type": "markdown",
   "id": "05dff21d",
   "metadata": {},
   "source": [
    "# This is notebook A"
   ]
  }
 ],
 "metadata": {
  "kernelspec": {
   "display_name": "base",
   "language": "python",
   "name": "python3"
  },
  "language_info": {
   "codemirror_mode": {
    "name": "ipython",
    "version": 3
   },
   "file_extension": ".py",
   "mimetype": "text/x-python",
   "name": "python",
   "nbconvert_exporter": "python",
   "pygments_lexer": "ipython3",
   "version": "3.13.5"
  }
 },
 "nbformat": 4,
 "nbformat_minor": 5
}
